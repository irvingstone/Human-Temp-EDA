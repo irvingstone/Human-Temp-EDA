{
 "cells": [
  {
   "cell_type": "markdown",
   "metadata": {},
   "source": [
    "# What is the True Normal Human Body Temperature? \n",
    "\n",
    "#### Background\n",
    "\n",
    "The mean normal body temperature was held to be 37$^{\\circ}$C or 98.6$^{\\circ}$F for more than 120 years since it was first conceptualized and reported by Carl Wunderlich in a famous 1868 book. But, is this value statistically correct?"
   ]
  },
  {
   "cell_type": "markdown",
   "metadata": {},
   "source": [
    "<h3>Exercises</h3>\n",
    "\n",
    "<p>In this exercise, you will analyze a dataset of human body temperatures and employ the concepts of hypothesis testing, confidence intervals, and statistical significance.</p>\n",
    "\n",
    "<p>Answer the following questions <b>in this notebook below and submit to your Github account</b>.</p> \n",
    "\n",
    "<ol>\n",
    "<li>  Is the distribution of body temperatures normal? \n",
    "    <ul>\n",
    "    <li> Although this is not a requirement for the Central Limit Theorem to hold (read the introduction on Wikipedia's page about the CLT carefully: https://en.wikipedia.org/wiki/Central_limit_theorem), it gives us some peace of mind that the population may also be normally distributed if we assume that this sample is representative of the population.\n",
    "    <li> Think about the way you're going to check for the normality of the distribution. Graphical methods are usually used first, but there are also other ways: https://en.wikipedia.org/wiki/Normality_test\n",
    "    </ul>\n",
    "<li>  Is the sample size large? Are the observations independent?\n",
    "    <ul>\n",
    "    <li> Remember that this is a condition for the Central Limit Theorem, and hence the statistical tests we are using, to apply.\n",
    "    </ul>\n",
    "<li>  Is the true population mean really 98.6 degrees F?\n",
    "    <ul>\n",
    "    <li> First, try a bootstrap hypothesis test.\n",
    "    <li> Now, let's try frequentist statistical testing. Would you use a one-sample or two-sample test? Why?\n",
    "    <li> In this situation, is it appropriate to use the $t$ or $z$ statistic? \n",
    "    <li> Now try using the other test. How is the result be different? Why?\n",
    "    </ul>\n",
    "<li>  Draw a small sample of size 10 from the data and repeat both frequentist tests. \n",
    "    <ul>\n",
    "    <li> Which one is the correct one to use? \n",
    "    <li> What do you notice? What does this tell you about the difference in application of the $t$ and $z$ statistic?\n",
    "    </ul>\n",
    "<li>  At what temperature should we consider someone's temperature to be \"abnormal\"?\n",
    "    <ul>\n",
    "    <li> As in the previous example, try calculating everything using the boostrap approach, as well as the frequentist approach.\n",
    "    <li> Start by computing the margin of error and confidence interval. When calculating the confidence interval, keep in mind that you should use the appropriate formula for one draw, and not N draws.\n",
    "    </ul>\n",
    "<li>  Is there a significant difference between males and females in normal temperature?\n",
    "    <ul>\n",
    "    <li> What testing approach did you use and why?\n",
    "    <li> Write a story with your conclusion in the context of the original problem.\n",
    "    </ul>\n",
    "</ol>\n",
    "\n",
    "You can include written notes in notebook cells using Markdown: \n",
    "   - In the control panel at the top, choose Cell > Cell Type > Markdown\n",
    "   - Markdown syntax: http://nestacms.com/docs/creating-content/markdown-cheat-sheet\n",
    "\n",
    "#### Resources\n",
    "\n",
    "+ Information and data sources: http://www.amstat.org/publications/jse/datasets/normtemp.txt, http://www.amstat.org/publications/jse/jse_data_archive.htm\n",
    "+ Markdown syntax: http://nestacms.com/docs/creating-content/markdown-cheat-sheet\n",
    "\n",
    "****"
   ]
  },
  {
   "cell_type": "markdown",
   "metadata": {},
   "source": [
    "# QUESTION 1"
   ]
  },
  {
   "cell_type": "code",
   "execution_count": 2,
   "metadata": {},
   "outputs": [
    {
     "name": "stdout",
     "output_type": "stream",
     "text": [
      "   temperature gender  heart_rate\n",
      "0         99.3      F        68.0\n",
      "1         98.4      F        81.0\n",
      "2         97.8      M        73.0\n",
      "3         99.2      F        66.0\n",
      "4         98.0      F        73.0\n"
     ]
    }
   ],
   "source": [
    "import pandas as pd\n",
    "import numpy as np\n",
    "import matplotlib.pyplot as plt\n",
    "import seaborn as sns\n",
    "sns.set()\n",
    "\n",
    "df = pd.read_csv('data/human_body_temperature.csv')\n",
    "print(df.head())"
   ]
  },
  {
   "cell_type": "code",
   "execution_count": 6,
   "metadata": {},
   "outputs": [],
   "source": [
    "def ecdf(data):\n",
    "    n=len(data)\n",
    "    x=np.sort(data)\n",
    "    y=np.arange(1,n+1)/n\n",
    "    return x,y"
   ]
  },
  {
   "cell_type": "code",
   "execution_count": 4,
   "metadata": {},
   "outputs": [
    {
     "name": "stdout",
     "output_type": "stream",
     "text": [
      "Mean: 98.24923076923078\n",
      "STD: 0.7303577789050377\n"
     ]
    }
   ],
   "source": [
    "mean=np.mean(df['temperature'])\n",
    "std = np.std(df['temperature'])\n",
    "print('Mean: ' + str(mean))\n",
    "print('STD: ' + str(std))"
   ]
  },
  {
   "cell_type": "code",
   "execution_count": 5,
   "metadata": {},
   "outputs": [
    {
     "name": "stdout",
     "output_type": "stream",
     "text": [
      "[98.79078791 97.01171735 97.55216849 ... 98.86690195 98.77991316\n",
      " 96.80885794]\n",
      "98.24907497365803\n"
     ]
    }
   ],
   "source": [
    "sample=np.random.normal(mean,std, size=10000)\n",
    "print(sample)\n",
    "print(np.mean(sample))"
   ]
  },
  {
   "cell_type": "code",
   "execution_count": 7,
   "metadata": {},
   "outputs": [
    {
     "data": {
      "image/png": "[encoded data removed]",
      "text/plain": [
       "<Figure size 432x288 with 1 Axes>"
      ]
     },
     "metadata": {
      "needs_background": "light"
     },
     "output_type": "display_data"
    }
   ],
   "source": [
    "x,y=ecdf(df['temperature'])\n",
    "x_theor, y_theor = ecdf(sample)\n",
    "_=plt.plot(x_theor,y_theor)\n",
    "_=plt.plot(x, y, marker='.', linestyle='none')\n",
    "_=plt.xlabel('temperature (F)')\n",
    "_=plt.ylabel('CDF')\n",
    "\n",
    "plt.show()\n",
    "\n",
    "#appears to be approximately normally distributed"
   ]
  },
  {
   "cell_type": "markdown",
   "metadata": {},
   "source": [
    "# QUESTION 2"
   ]
  },
  {
   "cell_type": "code",
   "execution_count": 10,
   "metadata": {},
   "outputs": [
    {
     "name": "stdout",
     "output_type": "stream",
     "text": [
      "Sample Size: 130\n"
     ]
    }
   ],
   "source": [
    "print('Sample Size: ' + str(len(df['temperature'])))"
   ]
  },
  {
   "cell_type": "code",
   "execution_count": null,
   "metadata": {},
   "outputs": [],
   "source": [
    "#There are 130 samples, the samples are independent of eachoter"
   ]
  },
  {
   "cell_type": "markdown",
   "metadata": {},
   "source": [
    "# QUESTION 3"
   ]
  },
  {
   "cell_type": "markdown",
   "metadata": {},
   "source": [
    "Is the true population mean really 98.6 degrees F?\n",
    "\n",
    "Null Hypothesis: True population mean is 98.6F\n",
    "Alt Hypotheis: True population mean is not 98.6F\n",
    "\n",
    "First, try a bootstrap hypothesis test.\n",
    "Now, let's try frequentist statistical testing. Would you use a one-sample or two-sample test? Why?\n",
    "In this situation, is it appropriate to use the  𝑡  or  𝑧  statistic?\n",
    "Now try using the other test. How is the result be different? Why?"
   ]
  },
  {
   "cell_type": "code",
   "execution_count": 11,
   "metadata": {},
   "outputs": [],
   "source": [
    "def bootstrap_replicate_1d(data, func):\n",
    "    return func(np.random.choice(data, size=len(data)))\n",
    "\n",
    "def draw_bs_reps(data, func, size=1):\n",
    "    bs_replicates=np.empty(size)\n",
    "    for i in range(size):\n",
    "        bs_replicates[i]=bootstrap_replicate_1d(data,func)\n",
    "    return bs_replicates\n",
    "\n",
    "def diff_from_pop(data, pop_mean=98.6):\n",
    "    return np.mean(data) - pop_mean\n"
   ]
  },
  {
   "cell_type": "markdown",
   "metadata": {},
   "source": [
    "#Shifting the data so that mean is the same as pop mean\n",
    "temp = df['temperature'] \n",
    "pop_mean= 98.6\n",
    "temp_shift = temp - np.mean(temp) + pop_mean\n",
    "\n",
    "diff_obs=diff_from_pop(temp)\n",
    "print(diff_obs)"
   ]
  },
  {
   "cell_type": "code",
   "execution_count": 13,
   "metadata": {},
   "outputs": [],
   "source": [
    "bs_replicates = draw_bs_reps(temp_shift, diff_from_pop, 10000)"
   ]
  },
  {
   "cell_type": "code",
   "execution_count": 14,
   "metadata": {},
   "outputs": [
    {
     "name": "stdout",
     "output_type": "stream",
     "text": [
      "[ 0.04307692  0.05153846 -0.06461538 ... -0.00846154  0.09538462\n",
      "  0.04615385]\n",
      "p-value: 0.0\n"
     ]
    }
   ],
   "source": [
    "print(bs_replicates)\n",
    "p_value=np.sum(bs_replicates<=diff_obs)/10000\n",
    "print('p-value: '+ str(p_value)) #reject null hypothesis"
   ]
  },
  {
   "cell_type": "code",
   "execution_count": 32,
   "metadata": {},
   "outputs": [],
   "source": [
    "#It is a one sample test since you are comparing to a set population mean and you do not know the population standard deviation"
   ]
  },
  {
   "cell_type": "code",
   "execution_count": 31,
   "metadata": {},
   "outputs": [
    {
     "name": "stdout",
     "output_type": "stream",
     "text": [
      "p-value: 0.0\n"
     ]
    }
   ],
   "source": [
    "from scipy import stats\n",
    "pval = stats.ttest_1samp(temp,pop_mean)\n",
    "print('p-value: ' + str(round(pval.pvalue,3)))"
   ]
  },
  {
   "cell_type": "code",
   "execution_count": null,
   "metadata": {},
   "outputs": [],
   "source": [
    "#t-test with p-val near 0, so reject H0"
   ]
  },
  {
   "cell_type": "markdown",
   "metadata": {},
   "source": [
    "# QUESTION 4"
   ]
  },
  {
   "cell_type": "markdown",
   "metadata": {},
   "source": [
    "Draw a small sample of size 10 from the data and repeat both frequentist tests.\n",
    "Which one is the correct one to use?\n",
    "What do you notice? What does this tell you about the difference in application of the  𝑡 and  𝑧  statistic?"
   ]
  },
  {
   "cell_type": "code",
   "execution_count": 55,
   "metadata": {},
   "outputs": [
    {
     "name": "stdout",
     "output_type": "stream",
     "text": [
      "p-value: 0.013\n"
     ]
    }
   ],
   "source": [
    "np.random.seed(42) #seed\n",
    "small_sample= np.random.choice(temp,10) \n",
    "p_val = stats.ttest_1samp(small_sample,pop_mean)\n",
    "print('p-value: ' + str(round(p_val.pvalue,3)))"
   ]
  },
  {
   "cell_type": "code",
   "execution_count": 54,
   "metadata": {},
   "outputs": [
    {
     "ename": "AttributeError",
     "evalue": "module 'scipy.stats' has no attribute 'ztest_1samp'",
     "output_type": "error",
     "traceback": [
      "\u001b[0;31m---------------------------------------------------------------------------\u001b[0m",
      "\u001b[0;31mAttributeError\u001b[0m                            Traceback (most recent call last)",
      "\u001b[0;32m<ipython-input-54-ec2cb2517146>\u001b[0m in \u001b[0;36m<module>\u001b[0;34m\u001b[0m\n\u001b[0;32m----> 1\u001b[0;31m \u001b[0mz_val\u001b[0m \u001b[0;34m=\u001b[0m \u001b[0mstats\u001b[0m\u001b[0;34m.\u001b[0m\u001b[0mztest_1samp\u001b[0m\u001b[0;34m(\u001b[0m\u001b[0msmall_sample\u001b[0m\u001b[0;34m,\u001b[0m\u001b[0mpop_mean\u001b[0m\u001b[0;34m)\u001b[0m\u001b[0;34m\u001b[0m\u001b[0;34m\u001b[0m\u001b[0m\n\u001b[0m",
      "\u001b[0;31mAttributeError\u001b[0m: module 'scipy.stats' has no attribute 'ztest_1samp'"
     ]
    }
   ],
   "source": [
    "#in this case you would reject the null hypothesis, the p-val will vary greatly given the small sample size"
   ]
  },
  {
   "cell_type": "markdown",
   "metadata": {},
   "source": [
    "# QUESTION 5"
   ]
  },
  {
   "cell_type": "markdown",
   "metadata": {},
   "source": [
    "At what temperature should we consider someone's temperature to be \"abnormal\"?\n",
    "As in the previous example, try calculating everything using the boostrap approach, as well as the frequentist approach.\n",
    "Start by computing the margin of error and confidence interval. When calculating the confidence interval, keep in mind that you should use the appropriate formula for one draw, and not N draws."
   ]
  },
  {
   "cell_type": "code",
   "execution_count": 148,
   "metadata": {},
   "outputs": [
    {
     "name": "stdout",
     "output_type": "stream",
     "text": [
      "2.5%: 98.124\n",
      "97.5%: 98.379\n",
      "Margin of Error: 0.127\n",
      "Mean: 98.249\n"
     ]
    }
   ],
   "source": [
    "#def bootstrap_replicate_1d(data, func):\n",
    "#    return func(np.random.choice(data, size=len(data)))\n",
    "\n",
    "#def draw_bs_reps(data, func, size=1):\n",
    "#    bs_replicates=np.empty(size)\n",
    "#    for i in range(size):\n",
    "#        bs_replicates[i]=bootstrap_replicate_1d(data,func)\n",
    "#    return bs_replicates\n",
    "\n",
    "bootstrap_replicate_1d(temp,np.mean)\n",
    "x=draw_bs_reps(temp, np.mean, 10000)\n",
    "conf_int = np.percentile(x,[2.5,97.5])\n",
    "print('2.5%: ' + str(round(conf_int[0],3)))\n",
    "print('97.5%: '+str(round(conf_int[1],3)))\n",
    "moe = 1.96*np.std(x)\n",
    "print('Margin of Error: ' + str(round(moe,3)))\n",
    "print('Mean: ' + str(round(np.mean(x),3)))\n",
    "#print(str(np.mean(x)+moe))\n",
    "#print(str(np.mean(x)-moe))"
   ]
  },
  {
   "cell_type": "code",
   "execution_count": 125,
   "metadata": {},
   "outputs": [],
   "source": [
    "#normal range would be about 98.12 F to 98.376 F, outliers would be outside this"
   ]
  },
  {
   "cell_type": "code",
   "execution_count": 150,
   "metadata": {},
   "outputs": [
    {
     "name": "stdout",
     "output_type": "stream",
     "text": [
      "Margin of Error: 0.126\n",
      "2.5%: 98.124\n",
      "97.5%: 98.375\n"
     ]
    }
   ],
   "source": [
    "freq_moe = 1.96 * np.std(temp)/np.sqrt(len(temp))\n",
    "print('Margin of Error: ' + str(round(freq_moe,3)))\n",
    "print('2.5%: ' + str(round(np.mean(temp)-freq_moe,3)))\n",
    "print('97.5%: ' + str(round(np.mean(temp)+freq_moe,3)))\n"
   ]
  },
  {
   "cell_type": "markdown",
   "metadata": {},
   "source": [
    "# QUESTION 6"
   ]
  },
  {
   "cell_type": "markdown",
   "metadata": {},
   "source": [
    "Is there a significant difference between males and females in normal temperature?\n",
    "What testing approach did you use and why?\n",
    "Write a story with your conclusion in the context of the original problem."
   ]
  },
  {
   "cell_type": "code",
   "execution_count": 179,
   "metadata": {},
   "outputs": [
    {
     "name": "stdout",
     "output_type": "stream",
     "text": [
      "P-Value: 0.024\n",
      "Male Mean: 98.105\n",
      "Female Mean: 98.394\n"
     ]
    }
   ],
   "source": [
    "#print(df.head())\n",
    "M = df[df.gender=='M']\n",
    "F = df[df.gender=='F']\n",
    "#H0 is that there is no difference in temp\n",
    "#Ha is that there is a difference\n",
    "p_value = stats.ttest_ind(M.temperature,F.temperature)\n",
    "print('P-Value: ' + str(round(p_value.pvalue,3)))\n",
    "print('Male Mean: ' + str(round(np.mean(M.temperature),3)))\n",
    "print('Female Mean: ' + str(round(np.mean(F.temperature),3)))"
   ]
  },
  {
   "cell_type": "code",
   "execution_count": null,
   "metadata": {},
   "outputs": [],
   "source": [
    "#you would reject the H0 that there is no difference in temp between Male and Females"
   ]
  },
  {
   "cell_type": "code",
   "execution_count": null,
   "metadata": {},
   "outputs": [],
   "source": []
  },
  {
   "cell_type": "code",
   "execution_count": null,
   "metadata": {},
   "outputs": [],
   "source": []
  },
  {
   "cell_type": "code",
   "execution_count": null,
   "metadata": {},
   "outputs": [],
   "source": []
  },
  {
   "cell_type": "code",
   "execution_count": null,
   "metadata": {},
   "outputs": [],
   "source": []
  },
  {
   "cell_type": "code",
   "execution_count": null,
   "metadata": {},
   "outputs": [],
   "source": []
  },
  {
   "cell_type": "code",
   "execution_count": null,
   "metadata": {},
   "outputs": [],
   "source": []
  },
  {
   "cell_type": "code",
   "execution_count": null,
   "metadata": {},
   "outputs": [],
   "source": []
  }
 ],
 "metadata": {
  "kernelspec": {
   "display_name": "Python 3",
   "language": "python",
   "name": "python3"
  },
  "language_info": {
   "codemirror_mode": {
    "name": "ipython",
    "version": 3
   },
   "file_extension": ".py",
   "mimetype": "text/x-python",
   "name": "python",
   "nbconvert_exporter": "python",
   "pygments_lexer": "ipython3",
   "version": "3.7.1"
  }
 },
 "nbformat": 4,
 "nbformat_minor": 1
}
